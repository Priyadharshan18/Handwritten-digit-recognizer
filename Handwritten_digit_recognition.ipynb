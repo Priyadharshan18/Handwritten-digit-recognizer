{
  "cells": [
    {
      "cell_type": "code",
      "execution_count": null,
      "metadata": {
        "id": "w3orKlGiCEEu"
      },
      "outputs": [],
      "source": [
        "import numpy as np\n",
        "import matplotlib.pyplot as plt\n",
        "from sklearn.model_selection import train_test_split\n",
        "from sklearn.metrics import accuracy_score\n",
        "from sklearn.linear_model import LogisticRegression\n",
        "from sklearn.svm import SVC\n",
        "from sklearn.neighbors import KNeighborsClassifier\n",
        "from tensorflow.keras.datasets import mnist\n",
        "from tensorflow.keras.models import Sequential\n",
        "from tensorflow.keras.layers import Dense, Flatten, Conv2D, MaxPooling2D\n",
        "from tensorflow.keras.utils import to_categorical\n",
        "from tensorflow.keras.optimizers import Adam"
      ]
    },
    {
      "cell_type": "code",
      "execution_count": null,
      "metadata": {
        "colab": {
          "base_uri": "https://localhost:8080/"
        },
        "id": "Te5SmR3KCSgG",
        "outputId": "4e579188-b2db-48e7-8d48-1b8399ac6351"
      },
      "outputs": [
        {
          "name": "stdout",
          "output_type": "stream",
          "text": [
            "Downloading data from https://storage.googleapis.com/tensorflow/tf-keras-datasets/mnist.npz\n",
            "\u001b[1m11490434/11490434\u001b[0m \u001b[32m━━━━━━━━━━━━━━━━━━━━\u001b[0m\u001b[37m\u001b[0m \u001b[1m0s\u001b[0m 0us/step\n"
          ]
        }
      ],
      "source": [
        "(X_train_full, y_train_full), (X_test, y_test) = mnist.load_data()\n",
        "\n",
        "# Normalize for ML models\n",
        "X_flat = X_train_full.reshape(-1, 784) / 255.0\n",
        "X_test_flat = X_test.reshape(-1, 784) / 255.0"
      ]
    },
    {
      "cell_type": "code",
      "execution_count": null,
      "metadata": {
        "colab": {
          "base_uri": "https://localhost:8080/"
        },
        "id": "r8qe8-T2CWzv",
        "outputId": "8a5d1d7b-76db-4e4e-8436-336f7c384b2d"
      },
      "outputs": [
        {
          "name": "stdout",
          "output_type": "stream",
          "text": [
            "Training Logistic Regression...\n"
          ]
        }
      ],
      "source": [
        "# 1. Logistic Regression\n",
        "print(\"Training Logistic Regression...\")\n",
        "log_clf = LogisticRegression(max_iter=1000)\n",
        "log_clf.fit(X_flat, y_train_full)\n",
        "y_pred_log = log_clf.predict(X_test_flat)\n",
        "acc_log = accuracy_score(y_test, y_pred_log)\n"
      ]
    },
    {
      "cell_type": "code",
      "execution_count": null,
      "metadata": {
        "colab": {
          "base_uri": "https://localhost:8080/"
        },
        "id": "jQj-ZOtpC_qq",
        "outputId": "45e43712-ef50-48a8-8580-7505236e0f53"
      },
      "outputs": [
        {
          "name": "stdout",
          "output_type": "stream",
          "text": [
            "Training SVM...\n"
          ]
        }
      ],
      "source": [
        "print(\"Training SVM...\")\n",
        "svm_clf = SVC()\n",
        "svm_clf.fit(X_flat[:10000], y_train_full[:10000])  # Use subset for speed\n",
        "y_pred_svm = svm_clf.predict(X_test_flat)\n",
        "acc_svm = accuracy_score(y_test, y_pred_svm)"
      ]
    },
    {
      "cell_type": "code",
      "execution_count": null,
      "metadata": {
        "colab": {
          "base_uri": "https://localhost:8080/"
        },
        "id": "imsi6B6WDCkz",
        "outputId": "0e4766ca-3c39-442d-d157-6c8eab77b23f"
      },
      "outputs": [
        {
          "name": "stdout",
          "output_type": "stream",
          "text": [
            "Training KNN...\n"
          ]
        }
      ],
      "source": [
        "print(\"Training KNN...\")\n",
        "knn_clf = KNeighborsClassifier(n_neighbors=3)\n",
        "knn_clf.fit(X_flat[:10000], y_train_full[:10000])  # Use subset for speed\n",
        "y_pred_knn = knn_clf.predict(X_test_flat)\n",
        "acc_knn = accuracy_score(y_test, y_pred_knn)"
      ]
    },
    {
      "cell_type": "code",
      "execution_count": null,
      "metadata": {
        "id": "OP4vfLSQDE4y"
      },
      "outputs": [],
      "source": [
        "X_train_nn = X_train_full.reshape(-1, 28, 28, 1).astype('float32') / 255.0\n",
        "X_test_nn = X_test.reshape(-1, 28, 28, 1).astype('float32') / 255.0\n",
        "y_train_cat = to_categorical(y_train_full, 10)\n",
        "y_test_cat = to_categorical(y_test, 10)\n"
      ]
    },
    {
      "cell_type": "code",
      "execution_count": null,
      "metadata": {
        "colab": {
          "base_uri": "https://localhost:8080/"
        },
        "id": "UmX2ZdgmDId5",
        "outputId": "fce8c805-d214-4b9a-e24b-0283789983e2"
      },
      "outputs": [
        {
          "name": "stdout",
          "output_type": "stream",
          "text": [
            "Training MLP Neural Network...\n"
          ]
        },
        {
          "name": "stderr",
          "output_type": "stream",
          "text": [
            "/usr/local/lib/python3.11/dist-packages/keras/src/layers/reshaping/flatten.py:37: UserWarning: Do not pass an `input_shape`/`input_dim` argument to a layer. When using Sequential models, prefer using an `Input(shape)` object as the first layer in the model instead.\n",
            "  super().__init__(**kwargs)\n"
          ]
        },
        {
          "name": "stdout",
          "output_type": "stream",
          "text": [
            "Epoch 1/20\n",
            "469/469 - 6s - 12ms/step - accuracy: 0.9077 - loss: 0.3229\n",
            "Epoch 2/20\n",
            "469/469 - 4s - 8ms/step - accuracy: 0.9606 - loss: 0.1306\n",
            "Epoch 3/20\n",
            "469/469 - 4s - 8ms/step - accuracy: 0.9731 - loss: 0.0908\n",
            "Epoch 4/20\n",
            "469/469 - 3s - 5ms/step - accuracy: 0.9800 - loss: 0.0688\n",
            "Epoch 5/20\n",
            "469/469 - 3s - 5ms/step - accuracy: 0.9838 - loss: 0.0539\n",
            "Epoch 6/20\n",
            "469/469 - 5s - 11ms/step - accuracy: 0.9867 - loss: 0.0434\n",
            "Epoch 7/20\n",
            "469/469 - 3s - 5ms/step - accuracy: 0.9888 - loss: 0.0361\n",
            "Epoch 8/20\n",
            "469/469 - 3s - 6ms/step - accuracy: 0.9915 - loss: 0.0284\n",
            "Epoch 9/20\n",
            "469/469 - 6s - 14ms/step - accuracy: 0.9929 - loss: 0.0234\n",
            "Epoch 10/20\n",
            "469/469 - 4s - 8ms/step - accuracy: 0.9936 - loss: 0.0210\n",
            "Epoch 11/20\n",
            "469/469 - 5s - 11ms/step - accuracy: 0.9951 - loss: 0.0164\n",
            "Epoch 12/20\n",
            "469/469 - 4s - 9ms/step - accuracy: 0.9946 - loss: 0.0168\n",
            "Epoch 13/20\n",
            "469/469 - 4s - 8ms/step - accuracy: 0.9954 - loss: 0.0141\n",
            "Epoch 14/20\n",
            "469/469 - 3s - 5ms/step - accuracy: 0.9967 - loss: 0.0109\n",
            "Epoch 15/20\n",
            "469/469 - 3s - 6ms/step - accuracy: 0.9971 - loss: 0.0095\n",
            "Epoch 16/20\n",
            "469/469 - 4s - 8ms/step - accuracy: 0.9965 - loss: 0.0102\n",
            "Epoch 17/20\n",
            "469/469 - 4s - 8ms/step - accuracy: 0.9977 - loss: 0.0082\n",
            "Epoch 18/20\n",
            "469/469 - 5s - 11ms/step - accuracy: 0.9971 - loss: 0.0086\n",
            "Epoch 19/20\n",
            "469/469 - 3s - 7ms/step - accuracy: 0.9975 - loss: 0.0084\n",
            "Epoch 20/20\n",
            "469/469 - 4s - 9ms/step - accuracy: 0.9977 - loss: 0.0075\n",
            "313/313 - 1s - 3ms/step - accuracy: 0.9775 - loss: 0.1026\n"
          ]
        },
        {
          "name": "stderr",
          "output_type": "stream",
          "text": [
            "WARNING:absl:You are saving your model as an HDF5 file via `model.save()` or `keras.saving.save_model(model)`. This file format is considered legacy. We recommend using instead the native Keras format, e.g. `model.save('my_model.keras')` or `keras.saving.save_model(model, 'my_model.keras')`. \n"
          ]
        }
      ],
      "source": [
        "# 4. Simple Neural Network (MLP)\n",
        "print(\"Training MLP Neural Network...\")\n",
        "mlp_model = Sequential([\n",
        "    Flatten(input_shape=(28, 28, 1)),\n",
        "    Dense(128, activation='relu'),\n",
        "    Dense(64, activation='relu'),\n",
        "    Dense(10, activation='softmax')\n",
        "])\n",
        "mlp_model.compile(optimizer='adam', loss='categorical_crossentropy', metrics=['accuracy'])\n",
        "mlp_model.fit(X_train_nn, y_train_cat, epochs=20, batch_size=128, verbose=2)\n",
        "acc_mlp = mlp_model.evaluate(X_test_nn, y_test_cat, verbose=2)[1]\n",
        "\n",
        "mlp_model.save(\"mlp_model.h5\")"
      ]
    },
    {
      "cell_type": "code",
      "execution_count": null,
      "metadata": {
        "colab": {
          "background_save": true,
          "base_uri": "https://localhost:8080/"
        },
        "id": "ixZCXGRKDKv7",
        "outputId": "a3cf643d-3077-4191-9fc0-8b3e6a9186b4"
      },
      "outputs": [
        {
          "name": "stdout",
          "output_type": "stream",
          "text": [
            "Training CNN...\n"
          ]
        },
        {
          "name": "stderr",
          "output_type": "stream",
          "text": [
            "/usr/local/lib/python3.11/dist-packages/keras/src/layers/convolutional/base_conv.py:107: UserWarning: Do not pass an `input_shape`/`input_dim` argument to a layer. When using Sequential models, prefer using an `Input(shape)` object as the first layer in the model instead.\n",
            "  super().__init__(activity_regularizer=activity_regularizer, **kwargs)\n"
          ]
        },
        {
          "name": "stdout",
          "output_type": "stream",
          "text": [
            "Epoch 1/20\n",
            "469/469 - 60s - 128ms/step - accuracy: 0.9404 - loss: 0.2079\n",
            "Epoch 2/20\n",
            "469/469 - 80s - 171ms/step - accuracy: 0.9836 - loss: 0.0538\n",
            "Epoch 3/20\n",
            "469/469 - 53s - 112ms/step - accuracy: 0.9890 - loss: 0.0363\n",
            "Epoch 4/20\n",
            "469/469 - 83s - 176ms/step - accuracy: 0.9910 - loss: 0.0288\n",
            "Epoch 5/20\n",
            "469/469 - 82s - 174ms/step - accuracy: 0.9935 - loss: 0.0217\n",
            "Epoch 6/20\n",
            "469/469 - 80s - 171ms/step - accuracy: 0.9947 - loss: 0.0171\n",
            "Epoch 7/20\n",
            "469/469 - 82s - 175ms/step - accuracy: 0.9955 - loss: 0.0140\n",
            "Epoch 8/20\n",
            "469/469 - 52s - 110ms/step - accuracy: 0.9961 - loss: 0.0116\n",
            "Epoch 9/20\n",
            "469/469 - 82s - 174ms/step - accuracy: 0.9973 - loss: 0.0088\n",
            "Epoch 10/20\n",
            "469/469 - 82s - 174ms/step - accuracy: 0.9975 - loss: 0.0084\n",
            "Epoch 11/20\n",
            "469/469 - 51s - 110ms/step - accuracy: 0.9979 - loss: 0.0068\n",
            "Epoch 12/20\n",
            "469/469 - 82s - 175ms/step - accuracy: 0.9974 - loss: 0.0075\n",
            "Epoch 13/20\n",
            "469/469 - 82s - 174ms/step - accuracy: 0.9983 - loss: 0.0052\n",
            "Epoch 14/20\n",
            "469/469 - 81s - 172ms/step - accuracy: 0.9984 - loss: 0.0047\n",
            "Epoch 15/20\n",
            "469/469 - 84s - 179ms/step - accuracy: 0.9982 - loss: 0.0055\n",
            "Epoch 16/20\n",
            "469/469 - 82s - 174ms/step - accuracy: 0.9988 - loss: 0.0034\n",
            "Epoch 17/20\n",
            "469/469 - 80s - 172ms/step - accuracy: 0.9987 - loss: 0.0041\n",
            "Epoch 18/20\n",
            "469/469 - 50s - 108ms/step - accuracy: 0.9987 - loss: 0.0041\n",
            "Epoch 19/20\n",
            "469/469 - 49s - 105ms/step - accuracy: 0.9990 - loss: 0.0029\n",
            "Epoch 20/20\n",
            "469/469 - 52s - 110ms/step - accuracy: 0.9992 - loss: 0.0025\n",
            "313/313 - 3s - 10ms/step - accuracy: 0.9920 - loss: 0.0363\n"
          ]
        },
        {
          "name": "stderr",
          "output_type": "stream",
          "text": [
            "WARNING:absl:You are saving your model as an HDF5 file via `model.save()` or `keras.saving.save_model(model)`. This file format is considered legacy. We recommend using instead the native Keras format, e.g. `model.save('my_model.keras')` or `keras.saving.save_model(model, 'my_model.keras')`. \n"
          ]
        }
      ],
      "source": [
        "# 5. Convolutional Neural Network (CNN)\n",
        "print(\"Training CNN...\")\n",
        "cnn_model = Sequential([\n",
        "    Conv2D(32, kernel_size=(3,3), activation='relu', input_shape=(28,28,1)),\n",
        "    MaxPooling2D(pool_size=(2,2)),\n",
        "    Conv2D(64, kernel_size=(3,3), activation='relu'),\n",
        "    MaxPooling2D(pool_size=(2,2)),\n",
        "    Flatten(),\n",
        "    Dense(128, activation='relu'),\n",
        "    Dense(10, activation='softmax')\n",
        "])\n",
        "cnn_model.compile(optimizer=Adam(), loss='categorical_crossentropy', metrics=['accuracy'])\n",
        "cnn_model.fit(X_train_nn, y_train_cat, epochs=20, batch_size=128, verbose=2)\n",
        "acc_cnn = cnn_model.evaluate(X_test_nn, y_test_cat, verbose=2)[1]\n",
        "\n",
        "cnn_model.save(\"cnn_model.h5\")"
      ]
    },
    {
      "cell_type": "code",
      "execution_count": null,
      "metadata": {
        "colab": {
          "background_save": true
        },
        "id": "ysN5Z1CCDOop",
        "outputId": "a2a0174e-7e37-4c83-c975-8a5a571b529d"
      },
      "outputs": [
        {
          "name": "stdout",
          "output_type": "stream",
          "text": [
            "\n",
            "--- Accuracy Comparison ---\n",
            "1. Logistic Regression:       0.9259\n",
            "2. Support Vector Machine:    0.9594\n",
            "3. KNN Classifier:            0.9463\n",
            "4. Neural Network (MLP):      0.9775\n",
            "5. Convolutional Neural Net:  0.9920\n"
          ]
        },
        {
          "data": {
            "image/png": "[encoded data removed]",
            "text/plain": [
              "<Figure size 640x480 with 1 Axes>"
            ]
          },
          "metadata": {},
          "output_type": "display_data"
        }
      ],
      "source": [
        "print(\"\\n--- Accuracy Comparison ---\")\n",
        "print(f\"1. Logistic Regression:       {acc_log:.4f}\")\n",
        "print(f\"2. Support Vector Machine:    {acc_svm:.4f}\")\n",
        "print(f\"3. KNN Classifier:            {acc_knn:.4f}\")\n",
        "print(f\"4. Neural Network (MLP):      {acc_mlp:.4f}\")\n",
        "print(f\"5. Convolutional Neural Net:  {acc_cnn:.4f}\")\n",
        "\n",
        "# Plot results\n",
        "algos = ['LogReg', 'SVM', 'KNN', 'MLP', 'CNN']\n",
        "accs = [acc_log, acc_svm, acc_knn, acc_mlp, acc_cnn]\n",
        "plt.bar(algos, accs, color='skyblue')\n",
        "plt.title(\"Model Accuracy Comparison\")\n",
        "plt.ylim(0.9, 1.0)\n",
        "plt.ylabel(\"Accuracy\")\n",
        "plt.show()"
      ]
    },
    {
      "cell_type": "code",
      "execution_count": null,
      "metadata": {
        "colab": {
          "background_save": true
        },
        "id": "8K-sS2tMdXV0",
        "outputId": "143aae88-f6a1-44eb-d34c-1f58dfa0dd75"
      },
      "outputs": [
        {
          "name": "stderr",
          "output_type": "stream",
          "text": [
            "WARNING:absl:Compiled the loaded model, but the compiled metrics have yet to be built. `model.compile_metrics` will be empty until you train or evaluate the model.\n"
          ]
        }
      ],
      "source": [
        "from tensorflow.keras.models import load_model\n",
        "import numpy as np\n",
        "import cv2\n",
        "import matplotlib.pyplot as plt\n",
        "\n",
        "model = load_model(\"cnn_model.h5\")\n"
      ]
    },
    {
      "cell_type": "code",
      "execution_count": null,
      "metadata": {
        "colab": {
          "background_save": true
        },
        "id": "3VWS7tW2d7aA"
      },
      "outputs": [],
      "source": [
        "def preprocess_image(path):\n",
        "    # Load image in grayscale\n",
        "    img = cv2.imread(path, cv2.IMREAD_GRAYSCALE)\n",
        "\n",
        "    # Resize to 28x28\n",
        "    img_resized = cv2.resize(img, (28, 28))\n",
        "\n",
        "    # Invert if background is black and digit is white\n",
        "    if np.mean(img_resized) > 127:  # light background, dark digit (normal)\n",
        "        img_processed = 255 - img_resized\n",
        "    else:\n",
        "        img_processed = img_resized\n",
        "\n",
        "    # Normalize and reshape for the model\n",
        "    img_normalized = img_processed / 255.0\n",
        "    img_reshaped = img_normalized.reshape(1, 28, 28, 1)\n",
        "\n",
        "    return img_reshaped"
      ]
    },
    {
      "cell_type": "code",
      "execution_count": null,
      "metadata": {
        "colab": {
          "background_save": true
        },
        "id": "Ga7spMNld_IK",
        "outputId": "940336c5-c573-49e0-c582-618f8fdf3cfd"
      },
      "outputs": [
        {
          "name": "stdout",
          "output_type": "stream",
          "text": [
            "\u001b[1m1/1\u001b[0m \u001b[32m━━━━━━━━━━━━━━━━━━━━\u001b[0m\u001b[37m\u001b[0m \u001b[1m0s\u001b[0m 99ms/step\n",
            "Predicted digit: 0\n"
          ]
        }
      ],
      "source": [
        "image_path = \"test.png\"\n",
        "processed_image = preprocess_image(image_path)\n",
        "\n",
        "prediction = model.predict(processed_image)\n",
        "predicted_digit = np.argmax(prediction)\n",
        "\n",
        "print(f\"Predicted digit: {predicted_digit}\")"
      ]
    }
  ],
  "metadata": {
    "colab": {
      "provenance": []
    },
    "kernelspec": {
      "display_name": "Python 3",
      "name": "python3"
    },
    "language_info": {
      "name": "python"
    }
  },
  "nbformat": 4,
  "nbformat_minor": 0
}